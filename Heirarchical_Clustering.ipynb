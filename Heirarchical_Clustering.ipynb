{
  "nbformat": 4,
  "nbformat_minor": 0,
  "metadata": {
    "colab": {
      "name": "Heirarchical_Clustering.ipynb",
      "provenance": [],
      "authorship_tag": "ABX9TyMHPcYRkI1xdeoDD9PdZyFS",
      "include_colab_link": true
    },
    "kernelspec": {
      "name": "python3",
      "display_name": "Python 3"
    },
    "language_info": {
      "name": "python"
    }
  },
  "cells": [
    {
      "cell_type": "markdown",
      "metadata": {
        "id": "view-in-github",
        "colab_type": "text"
      },
      "source": [
        "<a href=\"https://colab.research.google.com/github/Reshmykris/Day14_DS__ML/blob/main/Heirarchical_Clustering.ipynb\" target=\"_parent\"><img src=\"https://colab.research.google.com/assets/colab-badge.svg\" alt=\"Open In Colab\"/></a>"
      ]
    },
    {
      "cell_type": "code",
      "metadata": {
        "id": "LEAmbS1Q6muF"
      },
      "source": [
        "import numpy as np\n",
        "import pandas as pd\n",
        "import matplotlib.pyplot as plt\n"
      ],
      "execution_count": 3,
      "outputs": []
    },
    {
      "cell_type": "code",
      "metadata": {
        "id": "AcIdIu9J6-Vd"
      },
      "source": [
        "#import dataset\n",
        "\n",
        "dataset = pd.read_csv(\"/content/Mall_Customers.csv\")\n",
        "\n",
        "x = dataset.iloc[:, [3,4]].values"
      ],
      "execution_count": 5,
      "outputs": []
    },
    {
      "cell_type": "code",
      "metadata": {
        "colab": {
          "base_uri": "https://localhost:8080/",
          "height": 295
        },
        "id": "267AAohJ7Hte",
        "outputId": "cfa42f1b-d975-4f4d-ba05-03414485af66"
      },
      "source": [
        "#Using HC - optimal clusters\n",
        "\n",
        "import scipy.cluster.hierarchy as sch\n",
        "\n",
        "dendrogram = sch.dendrogram(sch.linkage(x, method=\"ward\"))\n",
        "\n",
        "plt.title(\"Dendogram\")\n",
        "plt.xlabel(\"Clusters\")\n",
        "plt.ylabel(\"Euclidean Distance\")\n",
        "\n",
        "plt.show()"
      ],
      "execution_count": 6,
      "outputs": [
        {
          "output_type": "display_data",
          "data": {
            "image/png": "[encoded data removed]",
            "text/plain": [
              "<Figure size 432x288 with 1 Axes>"
            ]
          },
          "metadata": {
            "tags": [],
            "needs_background": "light"
          }
        }
      ]
    },
    {
      "cell_type": "code",
      "metadata": {
        "id": "IZvEMV_N8DDs"
      },
      "source": [
        "#Train the cluster\n",
        "\n",
        "from sklearn.cluster import AgglomerativeClustering\n",
        "\n",
        "hc = AgglomerativeClustering(n_clusters = 5, affinity = 'euclidean', linkage = 'ward')\n",
        "\n",
        "y_hc = hc.fit_predict(x)\n"
      ],
      "execution_count": 7,
      "outputs": []
    },
    {
      "cell_type": "code",
      "metadata": {
        "colab": {
          "base_uri": "https://localhost:8080/"
        },
        "id": "G0B-QcKM8p63",
        "outputId": "7a00ae83-a1ac-4ba4-957c-a5a516b44628"
      },
      "source": [
        "y_hc"
      ],
      "execution_count": 8,
      "outputs": [
        {
          "output_type": "execute_result",
          "data": {
            "text/plain": [
              "array([4, 3, 4, 3, 4, 3, 4, 3, 4, 3, 4, 3, 4, 3, 4, 3, 4, 3, 4, 3, 4, 3,\n",
              "       4, 3, 4, 3, 4, 3, 4, 3, 4, 3, 4, 3, 4, 3, 4, 3, 4, 3, 4, 3, 4, 1,\n",
              "       4, 1, 1, 1, 1, 1, 1, 1, 1, 1, 1, 1, 1, 1, 1, 1, 1, 1, 1, 1, 1, 1,\n",
              "       1, 1, 1, 1, 1, 1, 1, 1, 1, 1, 1, 1, 1, 1, 1, 1, 1, 1, 1, 1, 1, 1,\n",
              "       1, 1, 1, 1, 1, 1, 1, 1, 1, 1, 1, 1, 1, 1, 1, 1, 1, 1, 1, 1, 1, 1,\n",
              "       1, 1, 1, 1, 1, 1, 1, 1, 1, 1, 1, 1, 1, 2, 1, 2, 1, 2, 0, 2, 0, 2,\n",
              "       1, 2, 0, 2, 0, 2, 0, 2, 0, 2, 1, 2, 0, 2, 1, 2, 0, 2, 0, 2, 0, 2,\n",
              "       0, 2, 0, 2, 0, 2, 1, 2, 0, 2, 0, 2, 0, 2, 0, 2, 0, 2, 0, 2, 0, 2,\n",
              "       0, 2, 0, 2, 0, 2, 0, 2, 0, 2, 0, 2, 0, 2, 0, 2, 0, 2, 0, 2, 0, 2,\n",
              "       0, 2])"
            ]
          },
          "metadata": {
            "tags": []
          },
          "execution_count": 8
        }
      ]
    },
    {
      "cell_type": "code",
      "metadata": {
        "colab": {
          "base_uri": "https://localhost:8080/",
          "height": 295
        },
        "id": "u7SEEjl18sPl",
        "outputId": "21a1c076-efe4-46bf-eae4-323c0e4f439b"
      },
      "source": [
        "#Visualize the clusters\n",
        "\n",
        "plt.scatter(x[y_hc == 0, 0], x[y_hc == 0, 1], s =10, c=\"red\", label = \"cluster 1\")\n",
        "\n",
        "plt.scatter(x[y_hc == 1, 0], x[y_hc == 1, 1], s =10, c=\"orange\", label = \"cluster 2\")\n",
        "\n",
        "plt.scatter(x[y_hc == 2, 0], x[y_hc == 2, 1], s =10, c=\"yellow\", label = \"cluster 3\")\n",
        "plt.scatter(x[y_hc == 3, 0], x[y_hc == 3, 1], s =10, c=\"blue\", label = \"cluster 4\")\n",
        "plt.scatter(x[y_hc == 4, 0], x[y_hc == 4, 1], s =10, c=\"magenta\", label = \"cluster 5\")\n",
        "\n",
        "\n",
        "#plt.scatter(hc.cluster_centers_[:, 0], hc.cluster_centers_[:, 1], c = \"black\", label = \"Centroids\")\n",
        "\n",
        "plt.title(\"Dendogram\")\n",
        "plt.xlabel(\"Clusters\")\n",
        "plt.ylabel(\"Euclidean Dist\")\n",
        "\n",
        "plt.show()"
      ],
      "execution_count": 9,
      "outputs": [
        {
          "output_type": "display_data",
          "data": {
            "image/png": "[encoded data removed]",
            "text/plain": [
              "<Figure size 432x288 with 1 Axes>"
            ]
          },
          "metadata": {
            "tags": [],
            "needs_background": "light"
          }
        }
      ]
    },
    {
      "cell_type": "code",
      "metadata": {
        "id": "QWHdBQxT9tEG"
      },
      "source": [
        ""
      ],
      "execution_count": null,
      "outputs": []
    }
  ]
}